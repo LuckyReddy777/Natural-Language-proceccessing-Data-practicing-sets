{
 "cells": [
  {
   "cell_type": "code",
   "execution_count": 4,
   "metadata": {},
   "outputs": [
    {
     "name": "stdout",
     "output_type": "stream",
     "text": [
      "1.5.2\n"
     ]
    }
   ],
   "source": [
    "import scipy\n",
    "\n",
    "print(scipy.__version__)"
   ]
  },
  {
   "cell_type": "code",
   "execution_count": 5,
   "metadata": {},
   "outputs": [
    {
     "name": "stdout",
     "output_type": "stream",
     "text": [
      "['Avogadro', 'Boltzmann', 'Btu', 'Btu_IT', 'Btu_th', 'ConstantWarning', 'G', 'Julian_year', 'N_A', 'Planck', 'R', 'Rydberg', 'Stefan_Boltzmann', 'Wien', '__all__', '__builtins__', '__cached__', '__doc__', '__file__', '__loader__', '__name__', '__package__', '__path__', '__spec__', '_obsolete_constants', 'acre', 'alpha', 'angstrom', 'arcmin', 'arcminute', 'arcsec', 'arcsecond', 'astronomical_unit', 'atm', 'atmosphere', 'atomic_mass', 'atto', 'au', 'bar', 'barrel', 'bbl', 'blob', 'c', 'calorie', 'calorie_IT', 'calorie_th', 'carat', 'centi', 'codata', 'constants', 'convert_temperature', 'day', 'deci', 'degree', 'degree_Fahrenheit', 'deka', 'dyn', 'dyne', 'e', 'eV', 'electron_mass', 'electron_volt', 'elementary_charge', 'epsilon_0', 'erg', 'exa', 'exbi', 'femto', 'fermi', 'find', 'fine_structure', 'fluid_ounce', 'fluid_ounce_US', 'fluid_ounce_imp', 'foot', 'g', 'gallon', 'gallon_US', 'gallon_imp', 'gas_constant', 'gibi', 'giga', 'golden', 'golden_ratio', 'grain', 'gram', 'gravitational_constant', 'h', 'hbar', 'hectare', 'hecto', 'horsepower', 'hour', 'hp', 'inch', 'k', 'kgf', 'kibi', 'kilo', 'kilogram_force', 'kmh', 'knot', 'lambda2nu', 'lb', 'lbf', 'light_year', 'liter', 'litre', 'long_ton', 'm_e', 'm_n', 'm_p', 'm_u', 'mach', 'mebi', 'mega', 'metric_ton', 'micro', 'micron', 'mil', 'mile', 'milli', 'minute', 'mmHg', 'mph', 'mu_0', 'nano', 'nautical_mile', 'neutron_mass', 'nu2lambda', 'ounce', 'oz', 'parsec', 'pebi', 'peta', 'physical_constants', 'pi', 'pico', 'point', 'pound', 'pound_force', 'precision', 'proton_mass', 'psi', 'pt', 'short_ton', 'sigma', 'slinch', 'slug', 'speed_of_light', 'speed_of_sound', 'stone', 'survey_foot', 'survey_mile', 'tebi', 'tera', 'test', 'ton_TNT', 'torr', 'troy_ounce', 'troy_pound', 'u', 'unit', 'value', 'week', 'yard', 'year', 'yobi', 'yotta', 'zebi', 'zepto', 'zero_Celsius', 'zetta']\n"
     ]
    }
   ],
   "source": [
    "from scipy import constants\n",
    "\n",
    "print(dir(constants))"
   ]
  },
  {
   "cell_type": "code",
   "execution_count": 7,
   "metadata": {},
   "outputs": [
    {
     "name": "stdout",
     "output_type": "stream",
     "text": [
      "1e+24\n",
      "1e+21\n",
      "1e+18\n",
      "1000000000000000.0\n",
      "1000000000000.0\n",
      "1000000000.0\n",
      "1000000.0\n",
      "1000.0\n",
      "100.0\n",
      "10.0\n",
      "0.1\n",
      "0.01\n",
      "0.001\n",
      "1e-06\n",
      "1e-09\n",
      "1e-12\n",
      "1e-15\n",
      "1e-18\n",
      "1e-21\n"
     ]
    }
   ],
   "source": [
    "print(constants.yotta)\n",
    "print(constants.zetta)\n",
    "print(constants.exa)\n",
    "print(constants.peta)\n",
    "print(constants.tera)\n",
    "print(constants.giga)\n",
    "print(constants.mega)\n",
    "print(constants.kilo)\n",
    "print(constants.hecto)\n",
    "print(constants.deka)\n",
    "print(constants.deci)\n",
    "print(constants.centi)\n",
    "print(constants.milli)\n",
    "print(constants.micro)\n",
    "print(constants.nano)\n",
    "print(constants.pico)\n",
    "print(constants.femto)\n",
    "print(constants.atto)\n",
    "print(constants.zepto)\n",
    "\n"
   ]
  },
  {
   "cell_type": "code",
   "execution_count": 8,
   "metadata": {},
   "outputs": [
    {
     "name": "stdout",
     "output_type": "stream",
     "text": [
      "0.001\n",
      "1000.0\n",
      "6.479891e-05\n",
      "0.45359236999999997\n",
      "0.45359236999999997\n",
      "0.028349523124999998\n",
      "0.028349523124999998\n",
      "6.3502931799999995\n",
      "1016.0469088\n",
      "907.1847399999999\n",
      "0.031103476799999998\n",
      "0.37324172159999996\n",
      "0.0002\n",
      "1.6605390666e-27\n",
      "1.6605390666e-27\n",
      "1.6605390666e-27\n"
     ]
    }
   ],
   "source": [
    "print(constants.gram)\n",
    "print(constants.metric_ton)\n",
    "print(constants.grain)\n",
    "print(constants.lb)\n",
    "print(constants.pound)\n",
    "print(constants.oz)\n",
    "print(constants.ounce)\n",
    "print(constants.stone)\n",
    "print(constants.long_ton)\n",
    "print(constants.short_ton)\n",
    "print(constants.troy_ounce)\n",
    "print(constants.troy_pound)\n",
    "print(constants.carat)\n",
    "print(constants.atomic_mass)\n",
    "print(constants.m_u)\n",
    "print(constants.u)"
   ]
  },
  {
   "cell_type": "code",
   "execution_count": 9,
   "metadata": {},
   "outputs": [
    {
     "name": "stdout",
     "output_type": "stream",
     "text": [
      "0.017453292519943295\n",
      "0.0002908882086657216\n",
      "0.0002908882086657216\n",
      "4.84813681109536e-06\n",
      "4.84813681109536e-06\n"
     ]
    }
   ],
   "source": [
    "print(constants.degree)\n",
    "print(constants.arcmin)\n",
    "print(constants.arcminute)\n",
    "print(constants.arcsec)\n",
    "print(constants.arcsecond)"
   ]
  },
  {
   "cell_type": "code",
   "execution_count": 10,
   "metadata": {},
   "outputs": [
    {
     "name": "stdout",
     "output_type": "stream",
     "text": [
      "0.0254\n",
      "0.30479999999999996\n",
      "0.9143999999999999\n",
      "1609.3439999999998\n",
      "2.5399999999999997e-05\n",
      "0.00035277777777777776\n",
      "0.00035277777777777776\n",
      "0.3048006096012192\n",
      "1609.3472186944373\n",
      "1852.0\n",
      "1e-15\n",
      "1e-10\n",
      "1e-06\n",
      "149597870700.0\n",
      "149597870700.0\n",
      "9460730472580800.0\n",
      "3.085677581491367e+16\n"
     ]
    }
   ],
   "source": [
    "print(constants.inch)\n",
    "print(constants.foot)\n",
    "print(constants.yard)\n",
    "print(constants.mile)\n",
    "print(constants.mil)\n",
    "print(constants.pt)\n",
    "print(constants.point)\n",
    "print(constants.survey_foot)\n",
    "print(constants.survey_mile)\n",
    "print(constants.nautical_mile)\n",
    "print(constants.fermi)\n",
    "print(constants.angstrom)\n",
    "print(constants.micron)\n",
    "print(constants.au)\n",
    "print(constants.astronomical_unit)\n",
    "print(constants.light_year)\n",
    "print(constants.parsec)\n",
    "\n",
    "\n",
    "\n",
    "\n"
   ]
  },
  {
   "cell_type": "code",
   "execution_count": 11,
   "metadata": {},
   "outputs": [
    {
     "name": "stdout",
     "output_type": "stream",
     "text": [
      "0.2777777777777778\n",
      "0.44703999999999994\n",
      "340.5\n",
      "340.5\n",
      "0.5144444444444445\n"
     ]
    }
   ],
   "source": [
    "print(constants.kmh)\n",
    "print(constants.mph)\n",
    "print(constants.mach)\n",
    "print(constants.speed_of_sound)\n",
    "print(constants.knot)"
   ]
  },
  {
   "cell_type": "code",
   "execution_count": 12,
   "metadata": {},
   "outputs": [
    {
     "name": "stdout",
     "output_type": "stream",
     "text": [
      "[-0.73908513]\n"
     ]
    }
   ],
   "source": [
    "from scipy.optimize import root \n",
    "from math import cos\n",
    "\n",
    "def eqn(x):\n",
    "    return x+cos(x)\n",
    "myroot=root(eqn,0)\n",
    "print(myroot.x)"
   ]
  },
  {
   "cell_type": "code",
   "execution_count": 13,
   "metadata": {},
   "outputs": [
    {
     "data": {
      "text/plain": [
       "    fjac: array([[-1.]])\n",
       "     fun: array([0.])\n",
       " message: 'The solution converged.'\n",
       "    nfev: 9\n",
       "     qtf: array([-2.66786593e-13])\n",
       "       r: array([-1.67361202])\n",
       "  status: 1\n",
       " success: True\n",
       "       x: array([-0.73908513])"
      ]
     },
     "execution_count": 13,
     "metadata": {},
     "output_type": "execute_result"
    }
   ],
   "source": [
    "myroot"
   ]
  },
  {
   "cell_type": "code",
   "execution_count": 14,
   "metadata": {},
   "outputs": [
    {
     "data": {
      "text/plain": [
       "array([-0.73908513])"
      ]
     },
     "execution_count": 14,
     "metadata": {},
     "output_type": "execute_result"
    }
   ],
   "source": [
    "myroot.x"
   ]
  },
  {
   "cell_type": "code",
   "execution_count": 15,
   "metadata": {},
   "outputs": [
    {
     "data": {
      "text/plain": [
       "1.5838531634528576"
      ]
     },
     "execution_count": 15,
     "metadata": {},
     "output_type": "execute_result"
    }
   ],
   "source": [
    "eqn(2)"
   ]
  },
  {
   "cell_type": "code",
   "execution_count": 17,
   "metadata": {},
   "outputs": [
    {
     "name": "stdout",
     "output_type": "stream",
     "text": [
      "(1, array([0, 0, 0]))\n"
     ]
    }
   ],
   "source": [
    "import numpy as np \n",
    "from scipy.sparse.csgraph import connected_components \n",
    "from scipy.sparse import csr_matrix \n",
    "\n",
    "arr=np.array([\n",
    "    [0,1,2],\n",
    "    [1,0,0],\n",
    "    [2,0,0]\n",
    "])\n",
    "\n",
    "newarr= csr_matrix(arr)\n",
    "print(connected_components(newarr))"
   ]
  },
  {
   "cell_type": "code",
   "execution_count": 18,
   "metadata": {},
   "outputs": [
    {
     "data": {
      "text/plain": [
       "<3x3 sparse matrix of type '<class 'numpy.intc'>'\n",
       "\twith 4 stored elements in Compressed Sparse Row format>"
      ]
     },
     "execution_count": 18,
     "metadata": {},
     "output_type": "execute_result"
    }
   ],
   "source": [
    "newarr"
   ]
  },
  {
   "cell_type": "code",
   "execution_count": 19,
   "metadata": {},
   "outputs": [
    {
     "name": "stdout",
     "output_type": "stream",
     "text": [
      "(array([0., 1., 2.]), array([-9999,     0,     0]))\n"
     ]
    }
   ],
   "source": [
    "from scipy.sparse.csgraph import dijkstra \n",
    "from scipy.sparse import csr_matrix \n",
    "\n",
    "arr=np.array([\n",
    "    [0,1,2],\n",
    "    [1,0,0],\n",
    "    [2,0,0]\n",
    "])\n",
    "\n",
    "newarr=csr_matrix(arr)\n",
    "\n",
    "print(dijkstra(newarr,return_predecessors=True,indices=0))"
   ]
  },
  {
   "cell_type": "code",
   "execution_count": 20,
   "metadata": {},
   "outputs": [
    {
     "data": {
      "text/plain": [
       "<3x3 sparse matrix of type '<class 'numpy.intc'>'\n",
       "\twith 4 stored elements in Compressed Sparse Row format>"
      ]
     },
     "execution_count": 20,
     "metadata": {},
     "output_type": "execute_result"
    }
   ],
   "source": [
    "newarr"
   ]
  },
  {
   "cell_type": "code",
   "execution_count": 21,
   "metadata": {},
   "outputs": [
    {
     "name": "stdout",
     "output_type": "stream",
     "text": [
      "  (0, 1)\t1\n",
      "  (0, 2)\t2\n",
      "  (1, 3)\t1\n",
      "  (2, 3)\t3\n"
     ]
    }
   ],
   "source": [
    "graph=[\n",
    "    [0,1,2,0],\n",
    "    [0,0,0,1],\n",
    "    [0,0,0,3],\n",
    "    [0,0,0,0]\n",
    "    ]\n",
    "graph=csr_matrix(graph)\n",
    "print(graph)"
   ]
  },
  {
   "cell_type": "code",
   "execution_count": 22,
   "metadata": {},
   "outputs": [],
   "source": [
    "dist_matrix,predecessors=dijkstra(csgraph=graph,directed=False,indices=0,return_predecessors=True)"
   ]
  },
  {
   "cell_type": "code",
   "execution_count": 23,
   "metadata": {},
   "outputs": [
    {
     "data": {
      "text/plain": [
       "array([0., 1., 2., 2.])"
      ]
     },
     "execution_count": 23,
     "metadata": {},
     "output_type": "execute_result"
    }
   ],
   "source": [
    "dist_matrix"
   ]
  },
  {
   "cell_type": "code",
   "execution_count": 24,
   "metadata": {},
   "outputs": [
    {
     "data": {
      "text/plain": [
       "array([-9999,     0,     0,     1])"
      ]
     },
     "execution_count": 24,
     "metadata": {},
     "output_type": "execute_result"
    }
   ],
   "source": [
    "predecessors"
   ]
  },
  {
   "cell_type": "code",
   "execution_count": 25,
   "metadata": {},
   "outputs": [
    {
     "name": "stdout",
     "output_type": "stream",
     "text": [
      "{'__header__': b'MATLAB 5.0 MAT-file Platform: nt, Created on: Wed Sep 15 11:53:04 2021', '__version__': '1.0', '__globals__': [], 'vec': array([[0, 1, 2, 3, 4, 5, 6, 7, 8, 9]])}\n"
     ]
    }
   ],
   "source": [
    "from scipy import io\n",
    "\n",
    "arr=np.array([0,1,2,3,4,5,6,7,8,9])\n",
    "\n",
    "#export\n",
    "\n",
    "io.savemat('arr.mat',{\"vec\":arr})\n",
    "\n",
    "#import\n",
    "\n",
    "mydata=io.loadmat('arr.mat')\n",
    "\n",
    "print(mydata)\n"
   ]
  },
  {
   "cell_type": "code",
   "execution_count": 26,
   "metadata": {},
   "outputs": [
    {
     "data": {
      "text/plain": [
       "{'__header__': b'MATLAB 5.0 MAT-file Platform: nt, Created on: Wed Sep 15 11:53:04 2021',\n",
       " '__version__': '1.0',\n",
       " '__globals__': [],\n",
       " 'vec': array([[0, 1, 2, 3, 4, 5, 6, 7, 8, 9]])}"
      ]
     },
     "execution_count": 26,
     "metadata": {},
     "output_type": "execute_result"
    }
   ],
   "source": [
    "mydata"
   ]
  },
  {
   "cell_type": "code",
   "execution_count": 46,
   "metadata": {},
   "outputs": [
    {
     "name": "stdout",
     "output_type": "stream",
     "text": [
      "[11.  11.2 11.4 11.6 11.8 12.  12.2 12.4 12.6 12.8 13.  13.2 13.4 13.6\n",
      " 13.8 14.  14.2 14.4 14.6 14.8]\n"
     ]
    }
   ],
   "source": [
    "from scipy.interpolate import interp1d\n",
    "\n",
    "\n",
    "xs=np.arange(10)\n",
    "\n",
    "ys=2*xs+1 \n",
    "\n",
    "inter_func=interp1d(xs,ys)\n",
    "\n",
    "newarr=inter_func(np.arange(5,7,0.1))\n",
    "\n",
    "print(newarr)"
   ]
  },
  {
   "cell_type": "code",
   "execution_count": 30,
   "metadata": {},
   "outputs": [
    {
     "data": {
      "text/plain": [
       "array([0, 1, 2, 3, 4, 5, 6, 7, 8, 9])"
      ]
     },
     "execution_count": 30,
     "metadata": {},
     "output_type": "execute_result"
    }
   ],
   "source": [
    "xs"
   ]
  },
  {
   "cell_type": "code",
   "execution_count": 31,
   "metadata": {},
   "outputs": [
    {
     "data": {
      "text/plain": [
       "array([ 1,  3,  5,  7,  9, 11, 13, 15, 17, 19])"
      ]
     },
     "execution_count": 31,
     "metadata": {},
     "output_type": "execute_result"
    }
   ],
   "source": [
    "ys"
   ]
  },
  {
   "cell_type": "code",
   "execution_count": 32,
   "metadata": {},
   "outputs": [
    {
     "data": {
      "text/plain": [
       "<scipy.interpolate.interpolate.interp1d at 0x220f598bf40>"
      ]
     },
     "execution_count": 32,
     "metadata": {},
     "output_type": "execute_result"
    }
   ],
   "source": [
    "inter_func"
   ]
  },
  {
   "cell_type": "code",
   "execution_count": 33,
   "metadata": {},
   "outputs": [
    {
     "data": {
      "text/plain": [
       "array([5.2, 5.4, 5.6, 5.8, 6. , 6.2, 6.4, 6.6, 6.8])"
      ]
     },
     "execution_count": 33,
     "metadata": {},
     "output_type": "execute_result"
    }
   ],
   "source": [
    "newarr"
   ]
  },
  {
   "cell_type": "code",
   "execution_count": 47,
   "metadata": {},
   "outputs": [],
   "source": [
    "x=np.arange(0,10)\n",
    "\n",
    "y=np.exp(-x/3.0)\n",
    "\n",
    "f=interp1d(x,y)"
   ]
  },
  {
   "cell_type": "code",
   "execution_count": 48,
   "metadata": {},
   "outputs": [
    {
     "data": {
      "text/plain": [
       "<scipy.interpolate.interpolate.interp1d at 0x220f2917e00>"
      ]
     },
     "execution_count": 48,
     "metadata": {},
     "output_type": "execute_result"
    }
   ],
   "source": [
    "f"
   ]
  },
  {
   "cell_type": "code",
   "execution_count": 49,
   "metadata": {},
   "outputs": [
    {
     "data": {
      "text/plain": [
       "array([0, 1, 2, 3, 4, 5, 6, 7, 8, 9])"
      ]
     },
     "execution_count": 49,
     "metadata": {},
     "output_type": "execute_result"
    }
   ],
   "source": [
    "x"
   ]
  },
  {
   "cell_type": "code",
   "execution_count": 50,
   "metadata": {},
   "outputs": [
    {
     "data": {
      "text/plain": [
       "array([1.        , 0.71653131, 0.51341712, 0.36787944, 0.26359714,\n",
       "       0.1888756 , 0.13533528, 0.09697197, 0.06948345, 0.04978707])"
      ]
     },
     "execution_count": 50,
     "metadata": {},
     "output_type": "execute_result"
    }
   ],
   "source": [
    "y"
   ]
  },
  {
   "cell_type": "code",
   "execution_count": 51,
   "metadata": {},
   "outputs": [],
   "source": [
    "xnew=np.arange(0,9,0.1)\n",
    "\n",
    "ynew=f(xnew)"
   ]
  },
  {
   "cell_type": "code",
   "execution_count": 52,
   "metadata": {},
   "outputs": [
    {
     "data": {
      "text/plain": [
       "array([1.        , 0.97165313, 0.94330626, 0.91495939, 0.88661252,\n",
       "       0.85826566, 0.82991879, 0.80157192, 0.77322505, 0.74487818,\n",
       "       0.71653131, 0.69621989, 0.67590847, 0.65559705, 0.63528563,\n",
       "       0.61497421, 0.5946628 , 0.57435138, 0.55403996, 0.53372854,\n",
       "       0.51341712, 0.49886335, 0.48430958, 0.46975582, 0.45520205,\n",
       "       0.44064828, 0.42609451, 0.41154074, 0.39698698, 0.38243321,\n",
       "       0.36787944, 0.35745121, 0.34702298, 0.33659475, 0.32616652,\n",
       "       0.31573829, 0.30531006, 0.29488183, 0.2844536 , 0.27402537,\n",
       "       0.26359714, 0.25612498, 0.24865283, 0.24118068, 0.23370852,\n",
       "       0.22623637, 0.21876422, 0.21129206, 0.20381991, 0.19634776,\n",
       "       0.1888756 , 0.18352157, 0.17816754, 0.17281351, 0.16745947,\n",
       "       0.16210544, 0.15675141, 0.15139738, 0.14604335, 0.14068932,\n",
       "       0.13533528, 0.13149895, 0.12766262, 0.12382629, 0.11998996,\n",
       "       0.11615363, 0.11231729, 0.10848096, 0.10464463, 0.1008083 ,\n",
       "       0.09697197, 0.09422312, 0.09147426, 0.08872541, 0.08597656,\n",
       "       0.08322771, 0.08047886, 0.07773001, 0.07498115, 0.0722323 ,\n",
       "       0.06948345, 0.06751381, 0.06554417, 0.06357454, 0.0616049 ,\n",
       "       0.05963526, 0.05766562, 0.05569598, 0.05372634, 0.05175671])"
      ]
     },
     "execution_count": 52,
     "metadata": {},
     "output_type": "execute_result"
    }
   ],
   "source": [
    "ynew"
   ]
  },
  {
   "cell_type": "code",
   "execution_count": null,
   "metadata": {},
   "outputs": [],
   "source": []
  }
 ],
 "metadata": {
  "kernelspec": {
   "display_name": "Python 3",
   "language": "python",
   "name": "python3"
  },
  "language_info": {
   "codemirror_mode": {
    "name": "ipython",
    "version": 3
   },
   "file_extension": ".py",
   "mimetype": "text/x-python",
   "name": "python",
   "nbconvert_exporter": "python",
   "pygments_lexer": "ipython3",
   "version": "3.8.8"
  }
 },
 "nbformat": 4,
 "nbformat_minor": 4
}
